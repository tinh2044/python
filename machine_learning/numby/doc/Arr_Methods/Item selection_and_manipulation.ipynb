{
 "cells": [
  {
   "cell_type": "code",
   "execution_count": 2,
   "metadata": {},
   "outputs": [],
   "source": [
    "import numpy as np"
   ]
  },
  {
   "cell_type": "code",
   "execution_count": 3,
   "metadata": {},
   "outputs": [
    {
     "data": {
      "text/plain": [
       "array([[4, 3],\n",
       "       [5, 7]])"
      ]
     },
     "execution_count": 3,
     "metadata": {},
     "output_type": "execute_result"
    }
   ],
   "source": [
    "# numpy.take(a, indices, axis=None, out=None, mode='raise')[source]\n",
    "# Take elements from an array along an axis.\n",
    "\n",
    "a = [4, 3, 5, 7, 6, 8]\n",
    "indices = [0, 1, 4]\n",
    "np.take(a, indices)\n",
    "# array([4, 3, 6])\n",
    "\n",
    "# In this example if a is an ndarray, “fancy” indexing can be used.\n",
    "\n",
    "a = np.array(a)\n",
    "a[indices]\n",
    "# array([4, 3, 6])\n",
    "\n",
    "# If indices is not one dimensional, the output also has these dimensions.\n",
    "\n",
    "np.take(a, [[0, 1], [2, 3]])\n",
    "# array([[4, 3],\n",
    "#        [5, 7]])"
   ]
  },
  {
   "cell_type": "code",
   "execution_count": 13,
   "metadata": {},
   "outputs": [
    {
     "data": {
      "text/plain": [
       "array([-5,  1,  2,  3,  4])"
      ]
     },
     "execution_count": 13,
     "metadata": {},
     "output_type": "execute_result"
    }
   ],
   "source": [
    "# numpy.put(a, ind, v, mode='raise')\n",
    "# Replaces specified elements of an array with given values.\n",
    "a = np.arange(5)\n",
    "np.put(a, [0, 2], [-44, -55])\n",
    "a\n",
    "# array([-44,   1, -55,   3,   4])\n",
    "a = np.arange(5)\n",
    "np.put(a, -100, -5, mode=\"chip\")\n",
    "a\n",
    "# array([ 0,  1,  2,  3, -5])"
   ]
  },
  {
   "cell_type": "code",
   "execution_count": 16,
   "metadata": {},
   "outputs": [
    {
     "data": {
      "text/plain": [
       "array([[1, 2],\n",
       "       [3, 4],\n",
       "       [3, 4]])"
      ]
     },
     "execution_count": 16,
     "metadata": {},
     "output_type": "execute_result"
    }
   ],
   "source": [
    "# numpy.repeat(a, repeats, axis=None)[source]\n",
    "# Repeat elements of an array\n",
    "\n",
    "np.repeat(3, 4)\n",
    "# array([3, 3, 3, 3])\n",
    "x = np.array([[1,2],[3,4]])\n",
    "np.repeat(x, 2)\n",
    "# array([1, 1, 2, 2, 3, 3, 4, 4])\n",
    "np.repeat(x, 3, axis=1)\n",
    "# array([[1, 1, 1, 2, 2, 2],\n",
    "#        [3, 3, 3, 4, 4, 4]])\n",
    "np.repeat(x, [1, 2], axis=0)\n",
    "# array([[1, 2],\n",
    "#        [3, 4],\n",
    "#        [3, 4]])\n"
   ]
  },
  {
   "cell_type": "code",
   "execution_count": 6,
   "metadata": {},
   "outputs": [
    {
     "data": {
      "text/plain": [
       "array([20,  1, 12,  3])"
      ]
     },
     "execution_count": 6,
     "metadata": {},
     "output_type": "execute_result"
    }
   ],
   "source": [
    "# numpy.choose(a, choices, out=None, mode='raise')[source]\n",
    "# Construct an array from an index array and a list of arrays to choose from.\n",
    "\n",
    "choices = [[0, 1, 2, 3], [10, 11, 12, 13],\n",
    "  [20, 21, 22, 23], [30, 31, 32, 33]]\n",
    "np.choose([2, 3, 1, 0], choices\n",
    "# the first element of the result will be the first element of the\n",
    "# third (2+1) \"array\" in choices, namely, 20; the second element\n",
    "# will be the second element of the fourth (3+1) choice array, i.e.,\n",
    "# 31, etc.\n",
    ")\n",
    "# array([20, 31, 12,  3])\n",
    "np.choose([2, 4, 1, 0], choices, mode='clip') # 4 goes to 3 (4-1)\n",
    "# array([20, 31, 12,  3])\n",
    "# because there are 4 choice arrays\n",
    "np.choose([2, 4, 1, 0], choices, mode='wrap') # 4 goes to (4 mod 4)\n",
    "# array([20,  1, 12,  3])\n",
    "# i.e., 0"
   ]
  },
  {
   "cell_type": "code",
   "execution_count": 7,
   "metadata": {},
   "outputs": [
    {
     "data": {
      "text/plain": [
       "array([[2],\n",
       "       [4],\n",
       "       [6]])"
      ]
     },
     "execution_count": 7,
     "metadata": {},
     "output_type": "execute_result"
    }
   ],
   "source": [
    "# numpy.nonzero(a)\n",
    "# Return the indices of the elements that are non-zero.\n",
    "x = np.array([[3, 0, 0], [0, 4, 0], [5, 6, 0]])\n",
    "x\n",
    "# array([[3, 0, 0],\n",
    "#        [0, 4, 0],\n",
    "#        [5, 6, 0]])\n",
    "\n",
    "np.nonzero(x)\n",
    "# (array([0, 1, 2, 2]), array([0, 1, 0, 1]))\n",
    "\n",
    "x[np.nonzero(x)]\n",
    "# array([3, 4, 5, 6])\n",
    "np.transpose(np.nonzero(x))\n",
    "# array([[0, 0],\n",
    "#        [1, 1],\n",
    "#        [2, 0],\n",
    "#        [2, 1]])\n",
    "\n",
    "a = np.array([[1, 2], [3, 4], [5, 6]])\n",
    "a\n",
    "# array([[1, 2],\n",
    "#        [3, 4],\n",
    "#        [5, 6]])\n",
    "np.compress([0, 1], a, axis=0)\n",
    "# array([[3, 4]])\n",
    "np.compress([False, True, True], a, axis=0)\n",
    "# array([[3, 4],\n",
    "#        [5, 6]])\n",
    "np.compress([False, True], a, axis=1)\n",
    "# array([[2],\n",
    "#        [4],\n",
    "#        [6]])"
   ]
  },
  {
   "cell_type": "code",
   "execution_count": 8,
   "metadata": {},
   "outputs": [
    {
     "data": {
      "text/plain": [
       "array([22, 16, 13, 17, 12,  8, 23, 21,  1,  0, 10,  9,  7,  6, 14, 15,  5,\n",
       "        4, 18, 19, 20,  3,  2, 11], dtype=int64)"
      ]
     },
     "execution_count": 8,
     "metadata": {},
     "output_type": "execute_result"
    }
   ],
   "source": [
    "# ndarray.partition(kth, axis=- 1, kind='introselect', order=None)\n",
    "# Rearranges the elements in the array in such a way that the value of the element in kth position is in the position it would be in a sorted array. All elements smaller than the kth element are moved before this element and all equal or greater are moved behind it. The ordering of the elements in the two partitions is undefined.\n",
    "np.random.seed(200)\n",
    "a = np.random.randint(0,100, (24,))\n",
    "a\n",
    "# array([26, 16, 68, 42, 55, 76, 79, 89, 14, 91, 57, 89, 11,  6, 42, 56,  1,\n",
    "#         7, 51, 27, 73, 15,  1, 23])\n",
    "np.partition(a, 3)\n",
    "# array([ 1,  1,  6,  7, 11, 14, 23, 15, 16, 26, 57, 91, 89, 79, 42, 56, 76,\n",
    "#        55, 51, 27, 73, 42, 68, 89])\n",
    "a.argpartition(3)"
   ]
  },
  {
   "cell_type": "code",
   "execution_count": 9,
   "metadata": {},
   "outputs": [
    {
     "data": {
      "text/plain": [
       "array([0, 3, 9], dtype=int64)"
      ]
     },
     "execution_count": 9,
     "metadata": {},
     "output_type": "execute_result"
    }
   ],
   "source": [
    "# numpy.searchsorted(a, v, side='left', sorter=None)[source]\n",
    "# Find indices where elements should be inserted to maintain order.\n",
    "\n",
    "# Find the indices into a sorted array a such that, if the corresponding elements in v were inserted before the indices, the order of a would be preserved.\n",
    "np.random.seed(200)\n",
    "a = np.random.randint(0,130, (9,))\n",
    "a\n",
    "# array([ 26, 105,  16,  68,  42,  76,  79,  89,  14])\n",
    "np.searchsorted(a, [14, 42 , 1000])"
   ]
  },
  {
   "cell_type": "code",
   "execution_count": null,
   "metadata": {},
   "outputs": [],
   "source": [
    "\n"
   ]
  },
  {
   "cell_type": "code",
   "execution_count": null,
   "metadata": {},
   "outputs": [],
   "source": []
  },
  {
   "cell_type": "code",
   "execution_count": null,
   "metadata": {},
   "outputs": [],
   "source": []
  }
 ],
 "metadata": {
  "kernelspec": {
   "display_name": "Python 3.10.7 64-bit",
   "language": "python",
   "name": "python3"
  },
  "language_info": {
   "codemirror_mode": {
    "name": "ipython",
    "version": 3
   },
   "file_extension": ".py",
   "mimetype": "text/x-python",
   "name": "python",
   "nbconvert_exporter": "python",
   "pygments_lexer": "ipython3",
   "version": "3.10.7"
  },
  "orig_nbformat": 4,
  "vscode": {
   "interpreter": {
    "hash": "fbc768028c3e6ead51d9a200ddcb2ec858ae62844dcd1994729a8279be9b48f2"
   }
  }
 },
 "nbformat": 4,
 "nbformat_minor": 2
}
