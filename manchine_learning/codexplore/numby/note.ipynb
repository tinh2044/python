{
 "cells": [
  {
   "cell_type": "code",
   "execution_count": 1,
   "metadata": {},
   "outputs": [],
   "source": [
    "import numpy as np\n"
   ]
  },
  {
   "cell_type": "code",
   "execution_count": 2,
   "metadata": {},
   "outputs": [
    {
     "name": "stdout",
     "output_type": "stream",
     "text": [
      "anchor_ratio,trans_range,node_density,iterations,ale,sd_ale\n",
      "30,15,200,40,0.773545928,0.250555301\n",
      "15,15,100,70,0.911940683,0.498329391\n",
      "30,15,100,50,0.814867311,0.255545506\n",
      "15,20,100,20,1.435332143,0.39460254\n",
      "30,15,100,40,1.265909048,0.302943301\n",
      "22,18,100,24,1.457227702,0.463308546\n",
      "18,23,100,14,1.912673609,0.440208313\n",
      "10,25,200,15,1.432541304,0.234996306\n",
      "29,25,100,40,0.777448602,0.351503738\n",
      "20,20,100,30,1.142195399,0.230192531\n",
      "15,20,200,20,0.694361186,0.108054554\n",
      "18,23,100,16,1.536521724,0.247704526\n",
      "18,23,100,24,1.054096551,0.312639571\n",
      "30,15,200,70,0.616868756,0.156022817\n",
      "30,20,100,50,1.306089929,0.3172243\n",
      "22,18,100,18,2.568407259,0.663502187\n",
      "14,17,200,40,0.857073355,0.264071316\n",
      "15,15,100,60,1.360770699,0.606128956\n",
      "14,17,200,70,0.761082794,0.098958496\n",
      "15,20,100,40,1.400044509,0.381825484\n",
      "15,15,100,40,0.968578876,0.521958738\n",
      "15,20,100,70,1.236995855,0.373965312\n",
      "20,20,100,20,1.424042411,0.432745628\n",
      "30,15,200,50,0.623686944,0.198896422\n",
      "20,20,200,30,0.639524158,0.144813998\n",
      "27,12,300,34,0.527185071,0.092165079\n",
      "20,20,200,40,0.583633811,0.113007589\n",
      "15,15,100,100,0.835540467,0.279405006\n",
      "30,20,100,30,0.856184664,0.249213749\n",
      "14,17,200,80,0.694355398,0.109480995\n",
      "30,15,200,60,0.610484539,0.156495612\n",
      "30,15,100,100,0.898056384,0.395022756\n",
      "15,15,200,80,0.579297331,0.141759096\n",
      "30,15,200,80,0.584010393,0.13818947\n",
      "18,23,100,18,1.42744727,0.300525323\n",
      "15,15,300,80,0.48997044,0.098293934\n",
      "15,15,100,20,1.972683353,1.092220436\n",
      "14,17,200,50,0.85212508,0.242422714\n",
      "15,20,100,80,0.987043662,0.272926693\n",
      "20,20,200,20,0.777587417,0.079345684\n",
      "15,16,100,16,2.178481596,0.473341171\n",
      "10,25,200,25,0.771503642,0.173037596\n",
      "30,15,100,70,1.230927917,0.288495035\n",
      "15,20,200,40,0.754537261,0.110507227\n",
      "15,15,300,70,0.538651227,0.071779145\n",
      "30,15,200,20,0.955296453,0.24371308\n",
      "30,15,100,30,1.068551445,0.220221197\n",
      "30,20,100,100,0.79887717,0.208752827\n",
      "15,15,200,70,0.726396136,0.201597177\n",
      "30,20,100,40,0.997667623,0.192819135\n",
      "30,20,100,60,1.088612931,0.308180737\n",
      "22,18,100,36,1.374326218,0.369650907\n",
      "15,15,300,30,0.59538378,0.095468884\n",
      "15,20,200,50,0.768373628,0.187631996\n",
      "30,15,300,40,0.394028786,0.050900443\n",
      "28,15,100,16,2.263947216,0.621398226\n",
      "20,20,100,50,1.101590753,0.394539056\n",
      "18,23,100,22,0.98210734,0.18315808\n",
      "15,15,100,80,0.938538151,0.431164582\n",
      "26,25,300,21,0.593627328,0.040814027\n",
      "29,25,100,70,0.65610635,0.170127389\n",
      "30,20,100,90,0.703330372,0.154978608\n",
      "15,20,200,70,0.626509484,0.071994182\n",
      "14,17,200,20,1.099575572,0.201073083\n",
      "15,20,100,90,1.087560553,0.287104621\n",
      "30,20,100,20,1.100996767,0.277833677\n",
      "30,15,100,60,0.958956875,0.247748433\n",
      "14,17,200,100,0.587373084,0.120572202\n",
      "15,15,300,60,0.644282653,0.079024456\n",
      "15,15,300,20,0.755031177,0.13089836\n",
      "30,15,100,20,1.720087588,0.25623594\n",
      "30,15,300,50,0.445195572,0.104002617\n",
      "15,15,100,30,1.311226379,0.991961832\n",
      "20,20,200,50,0.564917798,0.087060545\n",
      "15,15,300,40,0.640866088,0.102241216\n",
      "15,20,100,30,1.367249523,0.387468737\n",
      "15,15,100,90,1.204298023,0.349468948\n",
      "15,15,200,30,0.953480053,0.185214399\n",
      "15,15,200,20,1.020652502,0.248160335\n",
      "15,15,100,50,0.933937176,0.597886028\n",
      "15,15,200,50,0.894478416,0.16032499\n",
      "30,20,100,80,0.745117828,0.166373385\n",
      "30,15,300,20,0.542908875,0.051112026\n",
      "30,15,100,80,1.068203541,0.125976319\n",
      "15,15,200,60,0.623929257,0.122912992\n",
      "30,15,100,90,1.068378634,0.444850225\n",
      "15,20,100,100,0.978801005,0.319224485\n",
      "22,18,100,30,1.749733665,0.541785408\n",
      "15,16,100,20,1.37108134,0.443621064\n",
      "22,18,100,42,1.531824386,0.407232987\n",
      "15,20,100,60,1.166177374,0.306563863\n",
      "14,17,200,90,0.654629411,0.091094408\n",
      "15,20,200,30,0.87334123,0.265818779\n",
      "15,20,200,80,0.510574851,0.0543026\n",
      "26,25,300,35,0.514113413,0.003267308\n",
      "15,20,200,60,0.777208513,0.161208564\n",
      "15,15,300,50,0.59150413,0.089417566\n",
      "30,15,200,30,0.824427842,0.355873465\n",
      "30,20,100,70,0.736392617,0.097663974\n",
      "30,15,300,30,0.450843254,0.071420948\n",
      "22,18,100,48,1.188537496,0.353484938\n",
      "14,17,200,30,0.991036709,0.147471311\n",
      "18,23,100,20,1.2874723,0.375227192\n",
      "14,17,200,60,0.899102232,0.231821509\n",
      "15,20,100,50,1.171140151,0.372001486\n",
      "20,20,100,40,1.234492651,0.599834316\n",
      "15,15,200,40,0.635426082,0.139791282\n",
      "\n"
     ]
    }
   ],
   "source": [
    "#  Read file \n",
    "with open(\"data.csv\", \"r\") as f:\n",
    "    print(f.read())\n"
   ]
  },
  {
   "cell_type": "code",
   "execution_count": 3,
   "metadata": {},
   "outputs": [
    {
     "data": {
      "text/plain": [
       "array([[ 1,  2,  3,  4],\n",
       "       [ 5,  6,  7,  8],\n",
       "       [10, 11, 12, 13]])"
      ]
     },
     "execution_count": 3,
     "metadata": {},
     "output_type": "execute_result"
    }
   ],
   "source": [
    "# Create a array\n",
    "arr = [[1,2,3,4], [5,6,7,8], [10,11,12,13]]\n",
    "\n",
    "new_arr = np.array(arr, dtype=int)\n",
    "new_arr"
   ]
  },
  {
   "cell_type": "code",
   "execution_count": 4,
   "metadata": {},
   "outputs": [
    {
     "data": {
      "text/plain": [
       "array([[ 0,  1,  2,  3,  4],\n",
       "       [ 5,  6,  7,  8,  9],\n",
       "       [10, 11, 12, 13, 14]])"
      ]
     },
     "execution_count": 4,
     "metadata": {},
     "output_type": "execute_result"
    }
   ],
   "source": [
    "# Use function arange\n",
    "# Set rows and columns by reshape\n",
    "a = np.arange(15).reshape(3,5)\n",
    "a"
   ]
  },
  {
   "cell_type": "code",
   "execution_count": 5,
   "metadata": {},
   "outputs": [
    {
     "data": {
      "text/plain": [
       "(3, 5)"
      ]
     },
     "execution_count": 5,
     "metadata": {},
     "output_type": "execute_result"
    }
   ],
   "source": [
    "# Get shape of arr\n",
    "shape = a.shape\n",
    "shape\n"
   ]
  },
  {
   "cell_type": "code",
   "execution_count": 6,
   "metadata": {},
   "outputs": [
    {
     "data": {
      "text/plain": [
       "15"
      ]
     },
     "execution_count": 6,
     "metadata": {},
     "output_type": "execute_result"
    }
   ],
   "source": [
    "# get length of arr\n",
    "size = a.size \n",
    "size"
   ]
  },
  {
   "cell_type": "code",
   "execution_count": 7,
   "metadata": {},
   "outputs": [
    {
     "data": {
      "text/plain": [
       "array([[0, 0, 0, 0],\n",
       "       [0, 0, 0, 0],\n",
       "       [0, 0, 0, 0]])"
      ]
     },
     "execution_count": 7,
     "metadata": {},
     "output_type": "execute_result"
    }
   ],
   "source": [
    "# Create zeros array\n",
    "zero_arr = np.zeros((3,4),dtype=int)\n",
    "zero_arr"
   ]
  },
  {
   "cell_type": "code",
   "execution_count": 8,
   "metadata": {},
   "outputs": [
    {
     "data": {
      "text/plain": [
       "array([[1, 1, 1, 1],\n",
       "       [1, 1, 1, 1],\n",
       "       [1, 1, 1, 1]])"
      ]
     },
     "execution_count": 8,
     "metadata": {},
     "output_type": "execute_result"
    }
   ],
   "source": [
    "# Create array one\n",
    "one_arr = np.ones((3,4),dtype=int)\n",
    "one_arr"
   ]
  },
  {
   "cell_type": "code",
   "execution_count": 9,
   "metadata": {},
   "outputs": [
    {
     "data": {
      "text/plain": [
       "array([[         0,          1,          0,        488,       1108],\n",
       "       [         0,        768,      32761, 1889427952,        488]])"
      ]
     },
     "execution_count": 9,
     "metadata": {},
     "output_type": "execute_result"
    }
   ],
   "source": [
    "# Empty arr\n",
    "np.empty((2,5), dtype=int)"
   ]
  },
  {
   "cell_type": "code",
   "execution_count": 10,
   "metadata": {},
   "outputs": [
    {
     "data": {
      "text/plain": [
       "array([[1.        , 1.44444444],\n",
       "       [1.88888889, 2.33333333],\n",
       "       [2.77777778, 3.22222222],\n",
       "       [3.66666667, 4.11111111],\n",
       "       [4.55555556, 5.        ]])"
      ]
     },
     "execution_count": 10,
     "metadata": {},
     "output_type": "execute_result"
    }
   ],
   "source": [
    "# Create array of lineshape\n",
    "np.linspace(1,5, 10).reshape(5,2)"
   ]
  },
  {
   "cell_type": "code",
   "execution_count": 11,
   "metadata": {},
   "outputs": [
    {
     "data": {
      "text/plain": [
       "array([[18,  6, 22,  2, 16, 22],\n",
       "       [11, 17,  9, 12, 15, 15],\n",
       "       [ 0,  9, 16,  9, 13, 22],\n",
       "       [ 7, 14,  0, 17,  8, 16],\n",
       "       [20, 21, 21,  4,  1, 12],\n",
       "       [14, 10, 20,  0,  0,  0]])"
      ]
     },
     "execution_count": 11,
     "metadata": {},
     "output_type": "execute_result"
    }
   ],
   "source": [
    "# Random\n",
    "rg = np.random.default_rng(2)\n",
    "arr = rg.random((2,3))\n",
    "new_arr = np.random.randint(23, size=(6,6))\n",
    "\n",
    "new_arr"
   ]
  },
  {
   "cell_type": "code",
   "execution_count": 12,
   "metadata": {},
   "outputs": [
    {
     "data": {
      "text/plain": [
       "11"
      ]
     },
     "execution_count": 12,
     "metadata": {},
     "output_type": "execute_result"
    }
   ],
   "source": [
    "# get element\n",
    "arr = np.arange(100).reshape(10,10)\n",
    "arr[1,1]"
   ]
  },
  {
   "cell_type": "code",
   "execution_count": 13,
   "metadata": {},
   "outputs": [
    {
     "data": {
      "text/plain": [
       "array([ 0,  1,  2,  3,  4,  5,  6,  7,  8,  9, 10, 11, 12, 13, 14, 15, 16,\n",
       "       17, 18, 19, 20, 21, 22, 23, 24, 25, 26, 27, 28, 29, 30, 31, 32, 33,\n",
       "       34, 35, 36, 37, 38, 39, 40, 41, 42, 43, 44, 45, 46, 47, 48, 49, 50,\n",
       "       51, 52, 53, 54, 55, 56, 57, 58, 59, 60, 61, 62, 63, 64, 65, 66, 67,\n",
       "       68, 69, 70, 71, 72, 73, 74, 75, 76, 77, 78, 79, 80, 81, 82, 83, 84,\n",
       "       85, 86, 87, 88, 89, 90, 91, 92, 93, 94, 95, 96, 97, 98, 99])"
      ]
     },
     "execution_count": 13,
     "metadata": {},
     "output_type": "execute_result"
    }
   ],
   "source": [
    "# Ravel Arr\n",
    "arr.ravel()"
   ]
  },
  {
   "cell_type": "code",
   "execution_count": 14,
   "metadata": {},
   "outputs": [
    {
     "data": {
      "text/plain": [
       "array([[ 0,  1,  2,  3,  4,  5,  6,  7,  8,  9],\n",
       "       [10, 11, 12, 13, 14, 15, 16, 17, 18, 19],\n",
       "       [20, 21, 22, 23, 24, 25, 26, 27, 28, 29],\n",
       "       [30, 31, 32, 33, 34, 35, 36, 37, 38, 39],\n",
       "       [40, 41, 42, 43, 44, 45, 46, 47, 48, 49],\n",
       "       [50, 51, 52, 53, 54, 55, 56, 57, 58, 59],\n",
       "       [60, 61, 62, 63, 64, 65, 66, 67, 68, 69],\n",
       "       [70, 71, 72, 73, 74, 75, 76, 77, 78, 79],\n",
       "       [80, 81, 82, 83, 84, 85, 86, 87, 88, 89],\n",
       "       [90, 91, 92, 93, 94, 95, 96, 97, 98, 99]])"
      ]
     },
     "execution_count": 14,
     "metadata": {},
     "output_type": "execute_result"
    }
   ],
   "source": [
    "arr.reshape(10,10)"
   ]
  },
  {
   "cell_type": "code",
   "execution_count": 15,
   "metadata": {},
   "outputs": [
    {
     "data": {
      "text/plain": [
       "array([[1, 2, 3, 4],\n",
       "       [4, 5, 6, 7]])"
      ]
     },
     "execution_count": 15,
     "metadata": {},
     "output_type": "execute_result"
    }
   ],
   "source": [
    "# Columns stack\n",
    "a = [1,2,3,4]\n",
    "b = [4,5,6,7]\n",
    "# np.vstack((a,b))\n",
    "# a[:, np.newaxis]\n",
    "np.row_stack((a, b))"
   ]
  },
  {
   "cell_type": "code",
   "execution_count": 16,
   "metadata": {},
   "outputs": [
    {
     "data": {
      "text/plain": [
       "array([[ 1],\n",
       "       [ 2],\n",
       "       [ 3],\n",
       "       [ 4],\n",
       "       [ 5],\n",
       "       [ 6],\n",
       "       [ 7],\n",
       "       [ 8],\n",
       "       [ 9],\n",
       "       [10]])"
      ]
     },
     "execution_count": 16,
     "metadata": {},
     "output_type": "execute_result"
    }
   ],
   "source": [
    "from numpy import newaxis\n",
    "\n",
    "a = [1,2,3,4,5,6,7,8,9,10]\n",
    "a = np.array(a)\n",
    "a[:, newaxis]"
   ]
  },
  {
   "cell_type": "code",
   "execution_count": 17,
   "metadata": {},
   "outputs": [],
   "source": [
    "# H_split\n",
    "b = np.hsplit(a, 10)"
   ]
  },
  {
   "cell_type": "code",
   "execution_count": 18,
   "metadata": {},
   "outputs": [
    {
     "data": {
      "text/plain": [
       "array([1, 2, 3, 4, 5, 6])"
      ]
     },
     "execution_count": 18,
     "metadata": {},
     "output_type": "execute_result"
    }
   ],
   "source": [
    "a = [1, 2, 3]\n",
    "b =[4, 5, 6]\n",
    "new_a = np.concatenate((a, b))\n",
    "new_a"
   ]
  },
  {
   "cell_type": "code",
   "execution_count": 19,
   "metadata": {},
   "outputs": [
    {
     "data": {
      "text/plain": [
       "array([1, 2, 3, 4, 5, 6, 7, 8, 9])"
      ]
     },
     "execution_count": 19,
     "metadata": {},
     "output_type": "execute_result"
    }
   ],
   "source": [
    "# np.view and np.copy\n",
    "a = [1, 2, 3, 4, 5, 6, 7, 8, 9\t]\n",
    "a = np.array(a)\n",
    "b = a.view()\n",
    "b\n"
   ]
  },
  {
   "cell_type": "code",
   "execution_count": 20,
   "metadata": {},
   "outputs": [
    {
     "data": {
      "text/plain": [
       "array([0, 0, 0, 0, 1, 2, 2, 3, 3, 2, 1], dtype=int64)"
      ]
     },
     "execution_count": 20,
     "metadata": {},
     "output_type": "execute_result"
    }
   ],
   "source": [
    "# np.unique\n",
    "arr = [1, 1, 1, 1, 2, 3 ,3 ,4, 4, 3, 2]\n",
    "arr, data = np.unique(arr, return_inverse=True)\n",
    "data"
   ]
  },
  {
   "cell_type": "code",
   "execution_count": 21,
   "metadata": {},
   "outputs": [
    {
     "data": {
      "text/plain": [
       "array([[ 1,  2,  3,  4],\n",
       "       [ 5,  6,  7,  8],\n",
       "       [ 9, 10, 11, 12]])"
      ]
     },
     "execution_count": 21,
     "metadata": {},
     "output_type": "execute_result"
    }
   ],
   "source": [
    "# np.flatten and np.ravel\n",
    "x = np.array([[1 , 2, 3, 4], [5, 6, 7, 8], [9, 10, 11, 12]])\n",
    "a = x.ravel()\n",
    "x"
   ]
  },
  {
   "cell_type": "code",
   "execution_count": 22,
   "metadata": {},
   "outputs": [],
   "source": [
    "# Save file and load file\n",
    "a = np.array([1, 2, 3, 4, 5, 6])\n",
    "np.save('filename', a)\n",
    "b = np.load('filename.npy')"
   ]
  },
  {
   "cell_type": "code",
   "execution_count": 23,
   "metadata": {},
   "outputs": [
    {
     "data": {
      "text/plain": [
       "array([1, 5])"
      ]
     },
     "execution_count": 23,
     "metadata": {},
     "output_type": "execute_result"
    }
   ],
   "source": [
    "# np.diag\n",
    "a = [1,2,3]\n",
    "b = [4,5,6]\n",
    "c = np.diag((a, b))\n",
    "c"
   ]
  },
  {
   "cell_type": "code",
   "execution_count": 24,
   "metadata": {},
   "outputs": [
    {
     "data": {
      "text/plain": [
       "array([[ 1.,  1.,  1.,  0.],\n",
       "       [ 1.,  1.,  0.,  1.],\n",
       "       [ 0.,  0., -3.,  0.],\n",
       "       [ 0.,  0.,  0., -4.]])"
      ]
     },
     "execution_count": 24,
     "metadata": {},
     "output_type": "execute_result"
    }
   ],
   "source": [
    "A=np.ones((2, 2))\n",
    "B = np.eye(2, 2)\n",
    "C = np.zeros((2, 2))\n",
    "D = np.diag((-3, -4))\n",
    "np.block([[A, B], [C, D]])\n"
   ]
  },
  {
   "cell_type": "code",
   "execution_count": 25,
   "metadata": {},
   "outputs": [
    {
     "data": {
      "text/plain": [
       "array([[  1.,   2.,   3.],\n",
       "       [  4.,   5.,  67.],\n",
       "       [890., 123.,   4.]])"
      ]
     },
     "execution_count": 25,
     "metadata": {},
     "output_type": "execute_result"
    }
   ],
   "source": [
    "from io import StringIO\n",
    "data = u\"  1  2  3\\n  4  5 67\\n890123  4\"\n",
    "np.genfromtxt(StringIO(data), delimiter=3)"
   ]
  },
  {
   "cell_type": "code",
   "execution_count": 26,
   "metadata": {},
   "outputs": [
    {
     "data": {
      "text/plain": [
       "bytearray(b'\\x00\\x01\\x03\\x02')"
      ]
     },
     "execution_count": 26,
     "metadata": {},
     "output_type": "execute_result"
    }
   ],
   "source": [
    "big_end_buffer = bytearray([0,1,3,2])\n",
    "big_end_buffer"
   ]
  },
  {
   "cell_type": "code",
   "execution_count": null,
   "metadata": {},
   "outputs": [],
   "source": [
    "# Structured arrays\n",
    "x = np.array([('Rex', 9, 81.0), ('Fido', 3, 27.0)],\n",
    "             dtype=[('name', 'U10'), ('age', 'i4'), ('weight', 'f4')])\n",
    "x['name']"
   ]
  },
  {
   "cell_type": "markdown",
   "metadata": {},
   "source": []
  },
  {
   "cell_type": "code",
   "execution_count": null,
   "metadata": {},
   "outputs": [],
   "source": []
  }
 ],
 "metadata": {
  "kernelspec": {
   "display_name": "Python 3.10.7 64-bit",
   "language": "python",
   "name": "python3"
  },
  "language_info": {
   "codemirror_mode": {
    "name": "ipython",
    "version": 3
   },
   "file_extension": ".py",
   "mimetype": "text/x-python",
   "name": "python",
   "nbconvert_exporter": "python",
   "pygments_lexer": "ipython3",
   "version": "3.10.7"
  },
  "orig_nbformat": 4,
  "vscode": {
   "interpreter": {
    "hash": "fbc768028c3e6ead51d9a200ddcb2ec858ae62844dcd1994729a8279be9b48f2"
   }
  }
 },
 "nbformat": 4,
 "nbformat_minor": 2
}
