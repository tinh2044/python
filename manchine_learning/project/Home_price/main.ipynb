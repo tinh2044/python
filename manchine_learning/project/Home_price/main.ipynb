{
 "cells": [
  {
   "cell_type": "markdown",
   "metadata": {},
   "source": [
    "# House Price Prediction Project\n",
    "### 1 Problem Definition\n",
    "- Goal: predict the sales price for each house\n",
    "### 2 Feature Selection\n",
    "- Choose feature to train ML model\n",
    "- Need to use `Feature Engineering` to identify Features need\n",
    "\n",
    "### 3 Splitting the datasets\n",
    " - `data`: dataset\n",
    " - `x` : data(feature)\n",
    " - `y` : target variable(sales price)\n",
    " "
   ]
  },
  {
   "cell_type": "code",
   "execution_count": 1,
   "metadata": {},
   "outputs": [],
   "source": [
    "import pandas as pd\n",
    "import numpy as np\n"
   ]
  },
  {
   "cell_type": "code",
   "execution_count": 3,
   "metadata": {},
   "outputs": [],
   "source": [
    "data = pd.read_csv(\"train.csv\", index_col=\"Id\")\n"
   ]
  },
  {
   "cell_type": "code",
   "execution_count": 5,
   "metadata": {},
   "outputs": [
    {
     "data": {
      "text/plain": [
       "Index(['MSSubClass', 'MSZoning', 'LotFrontage', 'LotArea', 'Street', 'Alley',\n",
       "       'LotShape', 'LandContour', 'Utilities', 'LotConfig', 'LandSlope',\n",
       "       'Neighborhood', 'Condition1', 'Condition2', 'BldgType', 'HouseStyle',\n",
       "       'OverallQual', 'OverallCond', 'YearBuilt', 'YearRemodAdd', 'RoofStyle',\n",
       "       'RoofMatl', 'Exterior1st', 'Exterior2nd', 'MasVnrType', 'MasVnrArea',\n",
       "       'ExterQual', 'ExterCond', 'Foundation', 'BsmtQual', 'BsmtCond',\n",
       "       'BsmtExposure', 'BsmtFinType1', 'BsmtFinSF1', 'BsmtFinType2',\n",
       "       'BsmtFinSF2', 'BsmtUnfSF', 'TotalBsmtSF', 'Heating', 'HeatingQC',\n",
       "       'CentralAir', 'Electrical', '1stFlrSF', '2ndFlrSF', 'LowQualFinSF',\n",
       "       'GrLivArea', 'BsmtFullBath', 'BsmtHalfBath', 'FullBath', 'HalfBath',\n",
       "       'BedroomAbvGr', 'KitchenAbvGr', 'KitchenQual', 'TotRmsAbvGrd',\n",
       "       'Functional', 'Fireplaces', 'FireplaceQu', 'GarageType', 'GarageYrBlt',\n",
       "       'GarageFinish', 'GarageCars', 'GarageArea', 'GarageQual', 'GarageCond',\n",
       "       'PavedDrive', 'WoodDeckSF', 'OpenPorchSF', 'EnclosedPorch', '3SsnPorch',\n",
       "       'ScreenPorch', 'PoolArea', 'PoolQC', 'Fence', 'MiscFeature', 'MiscVal',\n",
       "       'MoSold', 'YrSold', 'SaleType', 'SaleCondition', 'SalePrice'],\n",
       "      dtype='object')"
      ]
     },
     "execution_count": 5,
     "metadata": {},
     "output_type": "execute_result"
    }
   ],
   "source": [
    "data.columns"
   ]
  },
  {
   "cell_type": "markdown",
   "metadata": {},
   "source": [
    "## 2 Feature Definition"
   ]
  },
  {
   "cell_type": "code",
   "execution_count": 13,
   "metadata": {},
   "outputs": [],
   "source": [
    "features = ['LotArea', 'YearBuilt', '1stFlrSF', '2ndFlrSF','FullBath','BedroomAbvGr', 'TotRmsAbvGrd']"
   ]
  },
  {
   "cell_type": "markdown",
   "metadata": {},
   "source": [
    "## 3 Splitting data into X and Y\n"
   ]
  },
  {
   "cell_type": "code",
   "execution_count": 15,
   "metadata": {},
   "outputs": [],
   "source": [
    "x = data[features]\n",
    "y = data[\"SalePrice\"]"
   ]
  },
  {
   "cell_type": "code",
   "execution_count": 18,
   "metadata": {},
   "outputs": [
    {
     "data": {
      "text/html": [
       "<div>\n",
       "<style scoped>\n",
       "    .dataframe tbody tr th:only-of-type {\n",
       "        vertical-align: middle;\n",
       "    }\n",
       "\n",
       "    .dataframe tbody tr th {\n",
       "        vertical-align: top;\n",
       "    }\n",
       "\n",
       "    .dataframe thead th {\n",
       "        text-align: right;\n",
       "    }\n",
       "</style>\n",
       "<table border=\"1\" class=\"dataframe\">\n",
       "  <thead>\n",
       "    <tr style=\"text-align: right;\">\n",
       "      <th></th>\n",
       "      <th>LotArea</th>\n",
       "      <th>YearBuilt</th>\n",
       "      <th>1stFlrSF</th>\n",
       "      <th>2ndFlrSF</th>\n",
       "      <th>FullBath</th>\n",
       "      <th>BedroomAbvGr</th>\n",
       "      <th>TotRmsAbvGrd</th>\n",
       "    </tr>\n",
       "    <tr>\n",
       "      <th>Id</th>\n",
       "      <th></th>\n",
       "      <th></th>\n",
       "      <th></th>\n",
       "      <th></th>\n",
       "      <th></th>\n",
       "      <th></th>\n",
       "      <th></th>\n",
       "    </tr>\n",
       "  </thead>\n",
       "  <tbody>\n",
       "    <tr>\n",
       "      <th>619</th>\n",
       "      <td>11694</td>\n",
       "      <td>2007</td>\n",
       "      <td>1828</td>\n",
       "      <td>0</td>\n",
       "      <td>2</td>\n",
       "      <td>3</td>\n",
       "      <td>9</td>\n",
       "    </tr>\n",
       "    <tr>\n",
       "      <th>871</th>\n",
       "      <td>6600</td>\n",
       "      <td>1962</td>\n",
       "      <td>894</td>\n",
       "      <td>0</td>\n",
       "      <td>1</td>\n",
       "      <td>2</td>\n",
       "      <td>5</td>\n",
       "    </tr>\n",
       "    <tr>\n",
       "      <th>93</th>\n",
       "      <td>13360</td>\n",
       "      <td>1921</td>\n",
       "      <td>964</td>\n",
       "      <td>0</td>\n",
       "      <td>1</td>\n",
       "      <td>2</td>\n",
       "      <td>5</td>\n",
       "    </tr>\n",
       "    <tr>\n",
       "      <th>818</th>\n",
       "      <td>13265</td>\n",
       "      <td>2002</td>\n",
       "      <td>1689</td>\n",
       "      <td>0</td>\n",
       "      <td>2</td>\n",
       "      <td>3</td>\n",
       "      <td>7</td>\n",
       "    </tr>\n",
       "    <tr>\n",
       "      <th>303</th>\n",
       "      <td>13704</td>\n",
       "      <td>2001</td>\n",
       "      <td>1541</td>\n",
       "      <td>0</td>\n",
       "      <td>2</td>\n",
       "      <td>3</td>\n",
       "      <td>6</td>\n",
       "    </tr>\n",
       "    <tr>\n",
       "      <th>...</th>\n",
       "      <td>...</td>\n",
       "      <td>...</td>\n",
       "      <td>...</td>\n",
       "      <td>...</td>\n",
       "      <td>...</td>\n",
       "      <td>...</td>\n",
       "      <td>...</td>\n",
       "    </tr>\n",
       "    <tr>\n",
       "      <th>764</th>\n",
       "      <td>9430</td>\n",
       "      <td>1999</td>\n",
       "      <td>1268</td>\n",
       "      <td>1097</td>\n",
       "      <td>2</td>\n",
       "      <td>3</td>\n",
       "      <td>8</td>\n",
       "    </tr>\n",
       "    <tr>\n",
       "      <th>836</th>\n",
       "      <td>9600</td>\n",
       "      <td>1950</td>\n",
       "      <td>1067</td>\n",
       "      <td>0</td>\n",
       "      <td>2</td>\n",
       "      <td>2</td>\n",
       "      <td>4</td>\n",
       "    </tr>\n",
       "    <tr>\n",
       "      <th>1217</th>\n",
       "      <td>8930</td>\n",
       "      <td>1978</td>\n",
       "      <td>1318</td>\n",
       "      <td>584</td>\n",
       "      <td>2</td>\n",
       "      <td>4</td>\n",
       "      <td>8</td>\n",
       "    </tr>\n",
       "    <tr>\n",
       "      <th>560</th>\n",
       "      <td>3196</td>\n",
       "      <td>2003</td>\n",
       "      <td>1557</td>\n",
       "      <td>0</td>\n",
       "      <td>2</td>\n",
       "      <td>2</td>\n",
       "      <td>7</td>\n",
       "    </tr>\n",
       "    <tr>\n",
       "      <th>685</th>\n",
       "      <td>16770</td>\n",
       "      <td>1998</td>\n",
       "      <td>1195</td>\n",
       "      <td>644</td>\n",
       "      <td>2</td>\n",
       "      <td>4</td>\n",
       "      <td>7</td>\n",
       "    </tr>\n",
       "  </tbody>\n",
       "</table>\n",
       "<p>1168 rows × 7 columns</p>\n",
       "</div>"
      ],
      "text/plain": [
       "      LotArea  YearBuilt  1stFlrSF  2ndFlrSF  FullBath  BedroomAbvGr  \\\n",
       "Id                                                                     \n",
       "619     11694       2007      1828         0         2             3   \n",
       "871      6600       1962       894         0         1             2   \n",
       "93      13360       1921       964         0         1             2   \n",
       "818     13265       2002      1689         0         2             3   \n",
       "303     13704       2001      1541         0         2             3   \n",
       "...       ...        ...       ...       ...       ...           ...   \n",
       "764      9430       1999      1268      1097         2             3   \n",
       "836      9600       1950      1067         0         2             2   \n",
       "1217     8930       1978      1318       584         2             4   \n",
       "560      3196       2003      1557         0         2             2   \n",
       "685     16770       1998      1195       644         2             4   \n",
       "\n",
       "      TotRmsAbvGrd  \n",
       "Id                  \n",
       "619              9  \n",
       "871              5  \n",
       "93               5  \n",
       "818              7  \n",
       "303              6  \n",
       "...            ...  \n",
       "764              8  \n",
       "836              4  \n",
       "1217             8  \n",
       "560              7  \n",
       "685              7  \n",
       "\n",
       "[1168 rows x 7 columns]"
      ]
     },
     "execution_count": 18,
     "metadata": {},
     "output_type": "execute_result"
    }
   ],
   "source": [
    "from sklearn.model_selection import train_test_split\n",
    "x_train, x_test, y_train, y_test = train_test_split(x,y, test_size=0.2, random_state=0)\n",
    "\n",
    "x_train"
   ]
  },
  {
   "cell_type": "markdown",
   "metadata": {},
   "source": [
    "## 4.Training Machine Learning Model"
   ]
  },
  {
   "cell_type": "code",
   "execution_count": 21,
   "metadata": {},
   "outputs": [],
   "source": [
    "from sklearn.tree import DecisionTreeRegressor\n",
    "dt_model = DecisionTreeRegressor(random_state=1)"
   ]
  },
  {
   "cell_type": "code",
   "execution_count": 22,
   "metadata": {},
   "outputs": [
    {
     "data": {
      "text/html": [
       "<style>#sk-container-id-1 {color: black;background-color: white;}#sk-container-id-1 pre{padding: 0;}#sk-container-id-1 div.sk-toggleable {background-color: white;}#sk-container-id-1 label.sk-toggleable__label {cursor: pointer;display: block;width: 100%;margin-bottom: 0;padding: 0.3em;box-sizing: border-box;text-align: center;}#sk-container-id-1 label.sk-toggleable__label-arrow:before {content: \"▸\";float: left;margin-right: 0.25em;color: #696969;}#sk-container-id-1 label.sk-toggleable__label-arrow:hover:before {color: black;}#sk-container-id-1 div.sk-estimator:hover label.sk-toggleable__label-arrow:before {color: black;}#sk-container-id-1 div.sk-toggleable__content {max-height: 0;max-width: 0;overflow: hidden;text-align: left;background-color: #f0f8ff;}#sk-container-id-1 div.sk-toggleable__content pre {margin: 0.2em;color: black;border-radius: 0.25em;background-color: #f0f8ff;}#sk-container-id-1 input.sk-toggleable__control:checked~div.sk-toggleable__content {max-height: 200px;max-width: 100%;overflow: auto;}#sk-container-id-1 input.sk-toggleable__control:checked~label.sk-toggleable__label-arrow:before {content: \"▾\";}#sk-container-id-1 div.sk-estimator input.sk-toggleable__control:checked~label.sk-toggleable__label {background-color: #d4ebff;}#sk-container-id-1 div.sk-label input.sk-toggleable__control:checked~label.sk-toggleable__label {background-color: #d4ebff;}#sk-container-id-1 input.sk-hidden--visually {border: 0;clip: rect(1px 1px 1px 1px);clip: rect(1px, 1px, 1px, 1px);height: 1px;margin: -1px;overflow: hidden;padding: 0;position: absolute;width: 1px;}#sk-container-id-1 div.sk-estimator {font-family: monospace;background-color: #f0f8ff;border: 1px dotted black;border-radius: 0.25em;box-sizing: border-box;margin-bottom: 0.5em;}#sk-container-id-1 div.sk-estimator:hover {background-color: #d4ebff;}#sk-container-id-1 div.sk-parallel-item::after {content: \"\";width: 100%;border-bottom: 1px solid gray;flex-grow: 1;}#sk-container-id-1 div.sk-label:hover label.sk-toggleable__label {background-color: #d4ebff;}#sk-container-id-1 div.sk-serial::before {content: \"\";position: absolute;border-left: 1px solid gray;box-sizing: border-box;top: 0;bottom: 0;left: 50%;z-index: 0;}#sk-container-id-1 div.sk-serial {display: flex;flex-direction: column;align-items: center;background-color: white;padding-right: 0.2em;padding-left: 0.2em;position: relative;}#sk-container-id-1 div.sk-item {position: relative;z-index: 1;}#sk-container-id-1 div.sk-parallel {display: flex;align-items: stretch;justify-content: center;background-color: white;position: relative;}#sk-container-id-1 div.sk-item::before, #sk-container-id-1 div.sk-parallel-item::before {content: \"\";position: absolute;border-left: 1px solid gray;box-sizing: border-box;top: 0;bottom: 0;left: 50%;z-index: -1;}#sk-container-id-1 div.sk-parallel-item {display: flex;flex-direction: column;z-index: 1;position: relative;background-color: white;}#sk-container-id-1 div.sk-parallel-item:first-child::after {align-self: flex-end;width: 50%;}#sk-container-id-1 div.sk-parallel-item:last-child::after {align-self: flex-start;width: 50%;}#sk-container-id-1 div.sk-parallel-item:only-child::after {width: 0;}#sk-container-id-1 div.sk-dashed-wrapped {border: 1px dashed gray;margin: 0 0.4em 0.5em 0.4em;box-sizing: border-box;padding-bottom: 0.4em;background-color: white;}#sk-container-id-1 div.sk-label label {font-family: monospace;font-weight: bold;display: inline-block;line-height: 1.2em;}#sk-container-id-1 div.sk-label-container {text-align: center;}#sk-container-id-1 div.sk-container {/* jupyter's `normalize.less` sets `[hidden] { display: none; }` but bootstrap.min.css set `[hidden] { display: none !important; }` so we also need the `!important` here to be able to override the default hidden behavior on the sphinx rendered scikit-learn.org. See: https://github.com/scikit-learn/scikit-learn/issues/21755 */display: inline-block !important;position: relative;}#sk-container-id-1 div.sk-text-repr-fallback {display: none;}</style><div id=\"sk-container-id-1\" class=\"sk-top-container\"><div class=\"sk-text-repr-fallback\"><pre>DecisionTreeRegressor(random_state=1)</pre><b>In a Jupyter environment, please rerun this cell to show the HTML representation or trust the notebook. <br />On GitHub, the HTML representation is unable to render, please try loading this page with nbviewer.org.</b></div><div class=\"sk-container\" hidden><div class=\"sk-item\"><div class=\"sk-estimator sk-toggleable\"><input class=\"sk-toggleable__control sk-hidden--visually\" id=\"sk-estimator-id-1\" type=\"checkbox\" checked><label for=\"sk-estimator-id-1\" class=\"sk-toggleable__label sk-toggleable__label-arrow\">DecisionTreeRegressor</label><div class=\"sk-toggleable__content\"><pre>DecisionTreeRegressor(random_state=1)</pre></div></div></div></div></div>"
      ],
      "text/plain": [
       "DecisionTreeRegressor(random_state=1)"
      ]
     },
     "execution_count": 22,
     "metadata": {},
     "output_type": "execute_result"
    }
   ],
   "source": [
    "dt_model.fit(x_train, y_train)"
   ]
  },
  {
   "cell_type": "code",
   "execution_count": 23,
   "metadata": {},
   "outputs": [
    {
     "data": {
      "text/plain": [
       "array([335000., 140200., 119000., 207500., 112000.])"
      ]
     },
     "execution_count": 23,
     "metadata": {},
     "output_type": "execute_result"
    }
   ],
   "source": [
    "y_predict = dt_model.predict(x_test.head())\n",
    "y_predict"
   ]
  },
  {
   "cell_type": "code",
   "execution_count": 25,
   "metadata": {},
   "outputs": [
    {
     "data": {
      "text/html": [
       "<div>\n",
       "<style scoped>\n",
       "    .dataframe tbody tr th:only-of-type {\n",
       "        vertical-align: middle;\n",
       "    }\n",
       "\n",
       "    .dataframe tbody tr th {\n",
       "        vertical-align: top;\n",
       "    }\n",
       "\n",
       "    .dataframe thead th {\n",
       "        text-align: right;\n",
       "    }\n",
       "</style>\n",
       "<table border=\"1\" class=\"dataframe\">\n",
       "  <thead>\n",
       "    <tr style=\"text-align: right;\">\n",
       "      <th></th>\n",
       "      <th>y</th>\n",
       "      <th>y_predict</th>\n",
       "    </tr>\n",
       "    <tr>\n",
       "      <th>Id</th>\n",
       "      <th></th>\n",
       "      <th></th>\n",
       "    </tr>\n",
       "  </thead>\n",
       "  <tbody>\n",
       "    <tr>\n",
       "      <th>530</th>\n",
       "      <td>200624</td>\n",
       "      <td>335000.0</td>\n",
       "    </tr>\n",
       "    <tr>\n",
       "      <th>492</th>\n",
       "      <td>133000</td>\n",
       "      <td>140200.0</td>\n",
       "    </tr>\n",
       "    <tr>\n",
       "      <th>460</th>\n",
       "      <td>110000</td>\n",
       "      <td>119000.0</td>\n",
       "    </tr>\n",
       "    <tr>\n",
       "      <th>280</th>\n",
       "      <td>192000</td>\n",
       "      <td>207500.0</td>\n",
       "    </tr>\n",
       "    <tr>\n",
       "      <th>656</th>\n",
       "      <td>88000</td>\n",
       "      <td>112000.0</td>\n",
       "    </tr>\n",
       "  </tbody>\n",
       "</table>\n",
       "</div>"
      ],
      "text/plain": [
       "          y  y_predict\n",
       "Id                    \n",
       "530  200624   335000.0\n",
       "492  133000   140200.0\n",
       "460  110000   119000.0\n",
       "280  192000   207500.0\n",
       "656   88000   112000.0"
      ]
     },
     "execution_count": 25,
     "metadata": {},
     "output_type": "execute_result"
    }
   ],
   "source": [
    "pd.DataFrame({'y': y_test.head(), 'y_predict': y_predict})"
   ]
  },
  {
   "cell_type": "code",
   "execution_count": 29,
   "metadata": {},
   "outputs": [
    {
     "data": {
      "text/plain": [
       "array([271690.        , 155039.        , 122024.        , 188915.        ,\n",
       "        91147.        ,  88533.2       , 240518.24      , 126286.        ,\n",
       "       624269.12      , 174312.25333333, 209138.46      , 147714.5       ,\n",
       "       233088.25      , 123139.5       , 140503.75      , 139187.        ,\n",
       "       232538.3       , 134260.        , 145952.24      , 130562.05      ,\n",
       "       129304.53      , 147179.68333333, 112355.46      , 183320.22      ,\n",
       "       153926.5       , 182853.57      , 176891.        ,  86320.        ,\n",
       "       308784.98      , 112746.        , 141734.5       , 190094.        ,\n",
       "       124460.65      , 280081.94      , 317780.6       , 179756.65      ,\n",
       "       218512.64      , 118609.16      , 224329.28      , 304517.56      ,\n",
       "       229449.        , 141422.15333333, 186872.35      , 302902.86      ,\n",
       "       316105.83      , 139820.        , 105783.66      , 127933.25      ,\n",
       "       165361.5       , 118615.5       , 314806.34      , 145952.75      ,\n",
       "       168104.74      , 104321.5       , 230903.86      , 104475.43      ,\n",
       "       127073.67      , 220962.32      , 134331.        , 103772.        ,\n",
       "       142472.        , 121159.87      , 137172.        , 157535.82      ,\n",
       "       238317.89      , 153370.5       , 132462.5       , 213296.08      ,\n",
       "       100501.15      , 207034.3       , 176922.95      , 115179.73      ,\n",
       "       119145.26      , 219613.93      , 119071.64      , 265884.02      ,\n",
       "       139592.5       ,  91393.        , 321720.78      , 153696.5       ,\n",
       "       132748.475     , 129206.4       , 129056.76      , 136215.        ,\n",
       "       239858.7       , 190044.01      , 111229.25      , 202547.9       ,\n",
       "       198464.88      , 128236.25      , 190444.2       , 178476.64      ,\n",
       "       185386.89      , 232633.33      , 183443.15      , 131355.5       ,\n",
       "       209776.78      , 170974.28      , 107571.81      , 130849.75      ,\n",
       "       307472.63      , 212417.15      , 153752.        , 153535.        ,\n",
       "        70977.11      , 291051.58      , 142023.33333333, 113776.36      ,\n",
       "       177632.55      , 121039.91      ,  64540.        , 132775.5       ,\n",
       "       200129.96      , 109796.        , 171477.1       , 141303.34      ,\n",
       "       379344.92      , 130431.        , 199257.        , 239009.08      ,\n",
       "       152198.33333333, 166299.03333333, 132312.        , 193673.        ,\n",
       "       228011.78      , 225480.27      , 370579.67      , 193699.5       ,\n",
       "       194058.35      , 181778.        , 186968.5       , 185745.14      ,\n",
       "       185633.        , 184546.        , 122533.5       , 251232.12      ,\n",
       "       130596.        , 188093.48      , 109434.16      , 185338.        ,\n",
       "       147235.64      , 148487.59      , 250170.        , 145917.68      ,\n",
       "       175268.        , 183785.24      , 229497.98      , 129091.25      ,\n",
       "       282253.66      , 224047.6       , 160011.        , 313718.39      ,\n",
       "       325897.47      , 131110.        , 137479.08      , 228547.92      ,\n",
       "       118973.        , 161729.5       , 149790.8       , 171744.4       ,\n",
       "       125462.1       , 148795.        , 185586.87      , 124288.125     ,\n",
       "       238657.47      , 146472.        , 153023.        , 320900.5       ,\n",
       "       192521.4       , 182268.9       , 163439.22      , 148931.38      ,\n",
       "       203741.04      , 169334.        , 142891.        , 102440.22      ,\n",
       "       129055.68333333, 236459.34      , 108644.28      , 151078.75      ,\n",
       "       199199.        , 172884.5       ,  85111.        , 296611.27      ,\n",
       "       116079.61      , 171556.        ,  88496.58333333, 193473.12      ,\n",
       "       215577.88      , 144093.3       , 134260.        , 137337.        ,\n",
       "       224150.43      , 138055.76      ,  97310.54      , 145669.5       ,\n",
       "        81912.        , 137045.5       , 164732.        , 123940.02      ,\n",
       "       145236.5       , 167402.72      , 100698.5       , 145294.01333333,\n",
       "       132062.87      , 217393.74      , 151816.74      , 249703.        ,\n",
       "       299828.97      ,  75675.8       , 154440.        , 271423.38      ,\n",
       "        99958.87      ,  87986.        , 256185.        , 231986.2       ,\n",
       "       179809.        , 277414.28      , 264852.73      ,  85421.83333333,\n",
       "       194202.        , 171716.        , 143236.46      , 123673.5       ,\n",
       "       196354.7       , 234169.6       , 213669.54      , 269384.        ,\n",
       "       138126.55333333, 181447.5       ,  99184.87      ,  92297.11      ,\n",
       "       122577.5       , 148620.        , 232536.4       , 136200.04      ,\n",
       "       156913.24      , 103420.8       , 127298.        , 170366.5       ,\n",
       "       106606.04      , 195612.15      , 229462.21      , 223218.78      ,\n",
       "       165259.5       , 128302.625     , 176544.86742857, 182924.17      ,\n",
       "       111784.5       , 181067.54      , 159068.32      , 261360.9       ,\n",
       "        87746.14      , 357532.72      , 210126.86      , 278566.06      ,\n",
       "        98601.94      , 236282.46      , 383697.98      , 452103.49      ,\n",
       "       143236.65      , 156256.75      , 172705.5       , 121778.41      ,\n",
       "       427192.36      , 322220.05      , 239785.4       ,  73976.22      ,\n",
       "       171058.        , 307708.33      , 145679.18      , 187698.79      ,\n",
       "       134249.5       , 198488.7       , 128103.5       , 226360.48      ,\n",
       "       204146.        , 169714.37      , 218699.45      , 116743.        ,\n",
       "       126018.5       , 361240.09      , 157760.25      , 134607.36      ,\n",
       "       206879.31      , 221064.        , 100056.17857143, 275931.87      ,\n",
       "       478954.15      , 176038.        ,  78096.        ,  81104.        ])"
      ]
     },
     "execution_count": 29,
     "metadata": {},
     "output_type": "execute_result"
    }
   ],
   "source": [
    "from sklearn.ensemble import RandomForestRegressor \n",
    "rf_model = RandomForestRegressor(random_state=1)\n",
    "rf_model.fit(x_train, y_train)\n",
    "\n",
    "rf_predict = rf_model.predict(x_test)\n",
    "rf_predict"
   ]
  },
  {
   "cell_type": "code",
   "execution_count": null,
   "metadata": {},
   "outputs": [],
   "source": []
  }
 ],
 "metadata": {
  "kernelspec": {
   "display_name": "Python 3.10.7 64-bit",
   "language": "python",
   "name": "python3"
  },
  "language_info": {
   "codemirror_mode": {
    "name": "ipython",
    "version": 3
   },
   "file_extension": ".py",
   "mimetype": "text/x-python",
   "name": "python",
   "nbconvert_exporter": "python",
   "pygments_lexer": "ipython3",
   "version": "3.10.7"
  },
  "orig_nbformat": 4,
  "vscode": {
   "interpreter": {
    "hash": "fbc768028c3e6ead51d9a200ddcb2ec858ae62844dcd1994729a8279be9b48f2"
   }
  }
 },
 "nbformat": 4,
 "nbformat_minor": 2
}
