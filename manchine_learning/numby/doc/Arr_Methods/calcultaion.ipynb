{
 "cells": [
  {
   "cell_type": "code",
   "execution_count": 17,
   "metadata": {},
   "outputs": [],
   "source": [
    "import numpy as np"
   ]
  },
  {
   "cell_type": "code",
   "execution_count": 18,
   "metadata": {},
   "outputs": [
    {
     "data": {
      "text/plain": [
       "array([3, 4, 2, 3, 4, 5, 6, 7, 8, 8])"
      ]
     },
     "execution_count": 18,
     "metadata": {},
     "output_type": "execute_result"
    }
   ],
   "source": [
    "a = np.arange(10)\n",
    "a\n",
    "# array([0, 1, 2, 3, 4, 5, 6, 7, 8, 9])\n",
    "np.clip(a, a_max=8, a_min=1)\n",
    "# array([1, 1, 2, 3, 4, 5, 6, 7, 8, 8])\n",
    "np.clip(a, 8, 1)\n",
    "# array([1, 1, 1, 1, 1, 1, 1, 1, 1, 1])\n",
    "np.clip(a, [3, 4, 1, 1, 1, 4, 4, 4, 4, 4], 8)\n",
    "# array([3, 4, 2, 3, 4, 5, 6, 7, 8, 8])"
   ]
  },
  {
   "cell_type": "code",
   "execution_count": 19,
   "metadata": {},
   "outputs": [
    {
     "data": {
      "text/plain": [
       "array([[1.-1.j, 0.-0.j],\n",
       "       [0.-0.j, 1.-1.j]])"
      ]
     },
     "execution_count": 19,
     "metadata": {},
     "output_type": "execute_result"
    }
   ],
   "source": [
    "# numpy.conjugate(x, /, out=None, *, where=True, casting='same_kind', order='K', dtype=None, subok=True[, signature, extobj]) = <ufunc 'conjugate'>\n",
    "# Return the complex conjugate, element-wise.\n",
    "\n",
    "\n",
    "# The complex conjugate of a complex number is obtained by changing the sign of its imaginary part.\n",
    "\n",
    "x = np.eye(2) + 1j * np.eye(2)\n",
    "np.conjugate(x)\n",
    "# array([[ 1.-1.j,  0.-0.j],\n",
    "#        [ 0.-0.j,  1.-1.j]])\n"
   ]
  },
  {
   "cell_type": "code",
   "execution_count": 20,
   "metadata": {},
   "outputs": [
    {
     "data": {
      "text/plain": [
       "array([[0.055, 0.761, 0.14 , 0.418, 0.425],\n",
       "       [0.888, 0.588, 0.052, 0.237, 0.071],\n",
       "       [0.092, 0.04 , 0.068, 0.698, 0.205],\n",
       "       [0.555, 0.074, 0.128, 0.356, 0.537],\n",
       "       [0.094, 0.089, 0.189, 0.252, 0.936]])"
      ]
     },
     "execution_count": 20,
     "metadata": {},
     "output_type": "execute_result"
    }
   ],
   "source": [
    "# numpy.around(a, decimals=0, out=None)\n",
    "# Evenly round to the given number of decimals.\n",
    "a = np.random.rand(5,5)\n",
    "np.around(a, 3)"
   ]
  },
  {
   "cell_type": "code",
   "execution_count": 21,
   "metadata": {},
   "outputs": [
    {
     "data": {
      "text/plain": [
       "(array([18, 20, 22, 24]),\n",
       " array([[[ 1,  2,  3,  4],\n",
       "         [ 5,  6,  7,  8],\n",
       "         [ 9, 10, 11, 12]],\n",
       " \n",
       "        [[13, 14, 15, 16],\n",
       "         [17, 18, 19, 20],\n",
       "         [21, 22, 23, 24]]]))"
      ]
     },
     "execution_count": 21,
     "metadata": {},
     "output_type": "execute_result"
    }
   ],
   "source": [
    "# numpy.trace(a, offset=0, axis1=0, axis2=1, dtype=None, out=None)\n",
    "# Return the sum along diagonals of the array.\n",
    "\n",
    "a = np.linspace(1,24, 24, dtype=int).reshape(2,3,4)\n",
    "np.trace(a),a"
   ]
  },
  {
   "cell_type": "code",
   "execution_count": 22,
   "metadata": {},
   "outputs": [
    {
     "data": {
      "text/plain": [
       "array([[1, 2, 3],\n",
       "       [5, 7, 9]])"
      ]
     },
     "execution_count": 22,
     "metadata": {},
     "output_type": "execute_result"
    }
   ],
   "source": [
    "# numpy.cumsum(a, axis=None, dtype=None, out=None)\n",
    "# Return the cumulative sum of the elements along a given axis.\n",
    "\n",
    "a = np.array([[1,2,3], [4,5,6]])\n",
    "a\n",
    "# array([[1, 2, 3],\n",
    "#        [4, 5, 6]])\n",
    "a.cumsum()\n",
    "# array([ 1,  3,  6, 10, 15, 21])\n",
    "a.cumsum(0)"
   ]
  },
  {
   "cell_type": "code",
   "execution_count": 23,
   "metadata": {},
   "outputs": [
    {
     "data": {
      "text/plain": [
       "array([1.5, 3.5])"
      ]
     },
     "execution_count": 23,
     "metadata": {},
     "output_type": "execute_result"
    }
   ],
   "source": [
    "# numpy.mean(a, axis=None, dtype=None, out=None, keepdims=<no value>, *, where=<no value>)\n",
    "# Compute the arithmetic mean along the specified axis.\n",
    "\n",
    "a = np.array([[1, 2], [3, 4]])\n",
    "np.mean(a)\n",
    "# 2.5\n",
    "np.mean(a, axis=0)\n",
    "# array([2., 3.])\n",
    "np.mean(a, axis=1)\n",
    "# array([1.5, 3.5])"
   ]
  },
  {
   "cell_type": "code",
   "execution_count": 24,
   "metadata": {},
   "outputs": [
    {
     "data": {
      "text/plain": [
       "1.25"
      ]
     },
     "execution_count": 24,
     "metadata": {},
     "output_type": "execute_result"
    }
   ],
   "source": [
    "# numpy.var(a, axis=None, dtype=None, out=None, ddof=0, keepdims=<no value>, *, where=<no value>)\n",
    "# Compute the variance along the specified axis.\n",
    "\n",
    "a = np.array([[1, 2], [3, 4]])\n",
    "np.var(a)\n",
    "# 1.25"
   ]
  },
  {
   "cell_type": "code",
   "execution_count": 25,
   "metadata": {},
   "outputs": [
    {
     "data": {
      "text/plain": [
       "array([1., 1.])"
      ]
     },
     "execution_count": 25,
     "metadata": {},
     "output_type": "execute_result"
    }
   ],
   "source": [
    "# numpy.std(a, axis=None, dtype=None, out=None, ddof=0, keepdims=<no value>, *, where=<no value>)\n",
    "# Compute the standard deviation along the specified axis.\n",
    "\n",
    "a = np.array([[1, 2], [3, 4]])\n",
    "np.std(a)\n",
    "# 1.1180339887498949\n",
    "np.std(a, axis=0)\n",
    "# array([1.,  1.])"
   ]
  },
  {
   "cell_type": "code",
   "execution_count": 26,
   "metadata": {},
   "outputs": [
    {
     "data": {
      "text/plain": [
       "array([[  45,  120,  231,  384],\n",
       "       [4641, 5544, 6555, 7680]])"
      ]
     },
     "execution_count": 26,
     "metadata": {},
     "output_type": "execute_result"
    }
   ],
   "source": [
    "# umpy.prod(a, axis=None, dtype=None, out=None, keepdims=<no value>, initial=<no value>, where=<no value>)[source]\n",
    "# Return the product of array elements over a given axis.\n",
    "\n",
    "x = np.array([536870910, 536870910, 536870910, 536870910])\n",
    "np.prod(x)\n",
    "# 16 \n",
    "a = np.arange(1,25).reshape(2,3,4)\n",
    "np.prod(a, axis=1)"
   ]
  },
  {
   "cell_type": "code",
   "execution_count": 27,
   "metadata": {},
   "outputs": [
    {
     "data": {
      "text/plain": [
       "array([[  1,   2,   3,   4],\n",
       "       [  5,  12,  21,  32],\n",
       "       [ 45, 120, 231, 384]])"
      ]
     },
     "execution_count": 27,
     "metadata": {},
     "output_type": "execute_result"
    }
   ],
   "source": [
    "# ndarray.cumprod(axis=None, dtype=None, out=None)\n",
    "# Return the cumulative product of the elements along the given axis.\n",
    "\n",
    "a  = np.arange(1,13).reshape(3,4)\n",
    "a\n",
    "# array([[ 1,  2,  3,  4],\n",
    "#        [ 5,  6,  7,  8],\n",
    "#        [ 9, 10, 11, 12]])\n",
    "a.cumprod(axis=0)\n"
   ]
  },
  {
   "cell_type": "code",
   "execution_count": 28,
   "metadata": {},
   "outputs": [
    {
     "data": {
      "text/plain": [
       "True"
      ]
     },
     "execution_count": 28,
     "metadata": {},
     "output_type": "execute_result"
    }
   ],
   "source": [
    "# numpy.all(a, axis=None, out=None, keepdims=<no value>, *, where=<no value>)[source]\n",
    "# Test whether all array elements along a given axis evaluate to True.\n",
    "\n",
    "np.all([[True,False],[True,True]])\n",
    "# False\n",
    "\n",
    "np.all([[True,False],[True,True]], axis=0)\n",
    "# array([ True, False])\n",
    "\n",
    "np.all([[True, True], [False, True]], where=[[True], [False]])\n",
    "# True"
   ]
  },
  {
   "cell_type": "code",
   "execution_count": 29,
   "metadata": {},
   "outputs": [
    {
     "data": {
      "text/plain": [
       "False"
      ]
     },
     "execution_count": 29,
     "metadata": {},
     "output_type": "execute_result"
    }
   ],
   "source": [
    "# numpy.any(a, axis=None, out=None, keepdims=<no value>, *, where=<no value>)[source]\n",
    "# Test whether any array element along a given axis evaluates to True.\n",
    "\n",
    "np.any([[True, False], [True, True]])\n",
    "# True\n",
    "np.any([[True, False], [False, False]], axis=0)\n",
    "# array([ True, False])\n",
    "np.any([-1, 0, 5])\n",
    "# True\n",
    "np.any(np.nan)\n",
    "# True\n",
    "np.any([[True, False], [False, False]], where=[[False], [True]])\n",
    "# False"
   ]
  },
  {
   "cell_type": "code",
   "execution_count": 40,
   "metadata": {},
   "outputs": [
    {
     "data": {
      "text/plain": [
       "(array([[1, 2, 3],\n",
       "        [4, 5, 6],\n",
       "        [7, 8, 9]]),\n",
       " array([[3],\n",
       "        [6],\n",
       "        [9]]))"
      ]
     },
     "execution_count": 40,
     "metadata": {},
     "output_type": "execute_result"
    }
   ],
   "source": [
    "a= np.arange(1,10).reshape(3,3)\n",
    "a, np.compress((a > 2)[0,:], a , axis=1)"
   ]
  },
  {
   "cell_type": "code",
   "execution_count": null,
   "metadata": {},
   "outputs": [],
   "source": []
  }
 ],
 "metadata": {
  "kernelspec": {
   "display_name": "Python 3.10.7 64-bit",
   "language": "python",
   "name": "python3"
  },
  "language_info": {
   "codemirror_mode": {
    "name": "ipython",
    "version": 3
   },
   "file_extension": ".py",
   "mimetype": "text/x-python",
   "name": "python",
   "nbconvert_exporter": "python",
   "pygments_lexer": "ipython3",
   "version": "3.10.7"
  },
  "orig_nbformat": 4,
  "vscode": {
   "interpreter": {
    "hash": "fbc768028c3e6ead51d9a200ddcb2ec858ae62844dcd1994729a8279be9b48f2"
   }
  }
 },
 "nbformat": 4,
 "nbformat_minor": 2
}
